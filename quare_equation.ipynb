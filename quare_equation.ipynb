{
 "cells": [
  {
   "cell_type": "code",
   "execution_count": 30,
   "metadata": {},
   "outputs": [
    {
     "name": "stdout",
     "output_type": "stream",
     "text": [
      "=============\n",
      "\u001b[94mThe polynomial is: \u001b[0m\n"
     ]
    },
    {
     "data": {
      "text/latex": [
       "$x^2+2x+1$"
      ],
      "text/plain": [
       "<IPython.core.display.Latex object>"
      ]
     },
     "metadata": {},
     "output_type": "display_data"
    },
    {
     "name": "stdout",
     "output_type": "stream",
     "text": [
      "=============\n",
      "\u001b[94mThe possible roots are: [[-1, 1], [1, 1]]\u001b[0m\n",
      "=============\n",
      "Horner's scheme is: \n",
      "+------+---+---+---+\n",
      "|      | 1 | 2 | 1 |\n",
      "+------+---+---+---+\n",
      "| -1/1 | 1 | 1 | 0 |\n",
      "+------+---+---+---+\n",
      "| -1/1 | 1 | 0 |   |\n",
      "+------+---+---+---+\n",
      "| -1/1 | 1 |   |   |\n",
      "+------+---+---+---+\n",
      "| 1/1  | 1 |   |   |\n",
      "+------+---+---+---+\n",
      "=============\n",
      "\u001b[92mRoots: \u001b[0m\n",
      "\u001b[92m[-1, 1] is a root 2 times\u001b[0m\n",
      "=============\n"
     ]
    }
   ],
   "source": [
    "from texttable import Texttable\n",
    "from IPython.display import display, Latex\n",
    "from math import gcd # Greatest common divisor\n",
    "import matplotlib.pyplot as plt\n",
    "\n",
    "\n",
    "def format_print(text, color, sep=\" \", end=\"\\n\"):\n",
    "    colors = {\n",
    "        \"purple\": '\\033[95m',\n",
    "        \"cyan\": '\\033[96m',\n",
    "        \"dark_cyan\": '\\033[36m',\n",
    "        \"blue\": '\\033[94m',\n",
    "        \"green\": '\\033[92m',\n",
    "        \"yellow\": '\\033[93m',\n",
    "        \"red\": '\\033[91m',\n",
    "        \"bold\": '\\033[1m',\n",
    "        \"underline\": '\\033[4m',\n",
    "        \"end\": '\\033[0m'\n",
    "    }\n",
    "    print(colors[color] + text + colors[\"end\"], sep=sep, end=end)\n",
    "\n",
    "def extended_list(list, length):\n",
    "    return list + [\"\"] * (length - len(list))\n",
    "\n",
    "def polynomial(coefficients):\n",
    "    result = \"\"\n",
    "    for i in range(len(coefficients)):\n",
    "        power = len(coefficients) - i - 1\n",
    "        if coefficients[i] > 0:\n",
    "            result += \"+\"\n",
    "        if power != 1 and power != 0:\n",
    "            if coefficients[i] == 1:\n",
    "                result += f\"x^{power}\"\n",
    "            elif coefficients[i] == 0:\n",
    "                continue\n",
    "            else:\n",
    "                result += f\"{coefficients[i]}x^{str(power)}\"\n",
    "        elif power == 1:\n",
    "            if coefficients[i] == 1:\n",
    "                result += f\"x\"\n",
    "            elif coefficients[i] == 0:\n",
    "                continue\n",
    "            else:\n",
    "                result += f\"{coefficients[i]}x\"\n",
    "        elif power == 0:\n",
    "            if coefficients[i] == 0:\n",
    "                continue\n",
    "            else:\n",
    "                result += f\"{coefficients[i]}\"\n",
    "    if result[0] == \"+\":\n",
    "        result = result[1:]\n",
    "    return result\n",
    "\n",
    "\n",
    "\n",
    "def divisors(n):\n",
    "    if n < 0:\n",
    "        n = abs(n)\n",
    "    return [-i for i in range(1, n+1) if n % i == 0] + [i for i in range(1, n+1) if n % i == 0]\n",
    "\n",
    "def simplify_fraction(numerator, denominator):\n",
    "    return [numerator // gcd(numerator, denominator), denominator // gcd(numerator, denominator)]\n",
    "\n",
    "\n",
    "deg=int(input(\"Enter the degree of the polynomial: \"))\n",
    "coeffs=[]\n",
    "for i in range(deg+1):\n",
    "    coeffs.append(int(input(\"Enter the coefficient of x^\"+str(deg-i)+\": \")))\n",
    "\n",
    "pq_list=[]\n",
    "for q in divisors(coeffs[0]):\n",
    "    for p in divisors(coeffs[-1]):\n",
    "        pq_list.append([p,q])\n",
    "\n",
    "print(\"=============\")\n",
    "format_print(color=\"blue\", text=f\"The polynomial is: \")\n",
    "display(Latex(f\"${polynomial(coeffs)}$\"))\n",
    "\n",
    "\n",
    "for i in range(len(pq_list)):\n",
    "    if (pq_list[i][0] > 0 and pq_list[i][1] < 0) or (pq_list[i][0] < 0 and pq_list[i][1] < 0):\n",
    "        pq_list[i][0] = -pq_list[i][0]\n",
    "        pq_list[i][1] = -pq_list[i][1]\n",
    "\n",
    "\n",
    "for i in range(len(pq_list)):\n",
    "    if type(pq_list[i]) == list:\n",
    "        pq_list[i] = simplify_fraction(pq_list[i][0], pq_list[i][1])\n",
    "\n",
    "\n",
    "\n",
    "for i in range(len(pq_list)):\n",
    "    if pq_list.count(pq_list[i]) > 1:\n",
    "        pq_list[i] = None\n",
    "pq_list = [i for i in pq_list if i != None]\n",
    "\n",
    "pq_list.sort(key=lambda x: abs(x[0]/x[1]) if type(x) == list else abs(x))\n",
    "\n",
    "print(\"=============\")\n",
    "format_print(color=\"blue\", text=f\"The possible roots are: {pq_list}\")\n",
    "\n",
    "roots = {}\n",
    "\n",
    "t = Texttable()\n",
    "t.add_row([\"\"] + coeffs)\n",
    "\n",
    "for pq in pq_list:\n",
    "    while True:\n",
    "        numbers = [coeffs[0]]\n",
    "        for i in range(1, len(coeffs)):\n",
    "            numbers.append(pq[0]/pq[1] * numbers[i-1] + coeffs[i])\n",
    "        t.add_row([f\"{pq[0]}/{pq[1]}\"] + extended_list(numbers, deg+1))\n",
    "        if numbers[-1] == 0:\n",
    "            roots[f\"{pq}\"] = roots[f\"{pq}\"] + 1 if f\"{pq}\" in roots else 1\n",
    "            coeffs = numbers[:-1]\n",
    "        else:\n",
    "            break\n",
    "\n",
    "print(\"=============\")\n",
    "print(\"Horner's scheme is: \")\n",
    "print(t.draw())\n",
    "\n",
    "print(\"=============\")\n",
    "format_print(color=\"green\", text=f\"Roots: \")\n",
    "for key, value in roots.items():\n",
    "    format_print(color=\"green\", text=f\"{key} is a root {value} times\")\n",
    "print(\"=============\")"
   ]
  },
  {
   "cell_type": "code",
   "execution_count": 31,
   "metadata": {},
   "outputs": [
    {
     "name": "stdout",
     "output_type": "stream",
     "text": [
      "['[-1, 1]', '[-1, 1]']\n",
      "[-1, 1]\n",
      "[-1, 1]\n",
      "-1, 1\n",
      "-1, 1\n"
     ]
    }
   ],
   "source": [
    "# Get the keys of the roots and store them in a list as many times as the value of the key is\n",
    "root_list = []\n",
    "for key, value in roots.items():\n",
    "    for i in range(value):\n",
    "        root_list.append(key)\n",
    "\n",
    "print(root_list)\n",
    "for root in root_list:\n",
    "    print(root)\n",
    "for root in root_list:\n",
    "    print(root[1:-1])"
   ]
  }
 ],
 "metadata": {
  "kernelspec": {
   "display_name": "Python 3",
   "language": "python",
   "name": "python3"
  },
  "language_info": {
   "codemirror_mode": {
    "name": "ipython",
    "version": 3
   },
   "file_extension": ".py",
   "mimetype": "text/x-python",
   "name": "python",
   "nbconvert_exporter": "python",
   "pygments_lexer": "ipython3",
   "version": "3.11.0"
  },
  "orig_nbformat": 4,
  "vscode": {
   "interpreter": {
    "hash": "c261aea317cc0286b3b3261fbba9abdec21eaa57589985bb7a274bf54d6cc0a7"
   }
  }
 },
 "nbformat": 4,
 "nbformat_minor": 2
}
